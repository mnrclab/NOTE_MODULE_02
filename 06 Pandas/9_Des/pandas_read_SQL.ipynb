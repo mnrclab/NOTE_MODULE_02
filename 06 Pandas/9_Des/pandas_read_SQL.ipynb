{
 "cells": [
  {
   "cell_type": "markdown",
   "metadata": {},
   "source": [
    "### **Pandas Read Sql**"
   ]
  },
  {
   "cell_type": "markdown",
   "metadata": {},
   "source": [
    "Beberapa alternatif cara untuk mengakses databases berbasis MySQL."
   ]
  },
  {
   "cell_type": "code",
   "execution_count": 17,
   "metadata": {},
   "outputs": [],
   "source": [
    "import pandas as pd\n",
    "import mysql.connector"
   ]
  },
  {
   "cell_type": "markdown",
   "metadata": {},
   "source": [
    "### 1. MySQL Connector"
   ]
  },
  {
   "cell_type": "code",
   "execution_count": 18,
   "metadata": {},
   "outputs": [
    {
     "data": {
      "text/html": [
       "<div>\n",
       "<style scoped>\n",
       "    .dataframe tbody tr th:only-of-type {\n",
       "        vertical-align: middle;\n",
       "    }\n",
       "\n",
       "    .dataframe tbody tr th {\n",
       "        vertical-align: top;\n",
       "    }\n",
       "\n",
       "    .dataframe thead th {\n",
       "        text-align: right;\n",
       "    }\n",
       "</style>\n",
       "<table border=\"1\" class=\"dataframe\">\n",
       "  <thead>\n",
       "    <tr style=\"text-align: right;\">\n",
       "      <th></th>\n",
       "      <th>id</th>\n",
       "      <th>nama</th>\n",
       "      <th>email</th>\n",
       "      <th>waktu</th>\n",
       "    </tr>\n",
       "  </thead>\n",
       "  <tbody>\n",
       "    <tr>\n",
       "      <td>0</td>\n",
       "      <td>1</td>\n",
       "      <td>Asnawi</td>\n",
       "      <td>asnawi@yahoo.id</td>\n",
       "      <td>2019-12-09 09:29:10</td>\n",
       "    </tr>\n",
       "    <tr>\n",
       "      <td>1</td>\n",
       "      <td>2</td>\n",
       "      <td>Bagas</td>\n",
       "      <td>bagasadi@yahoo.id</td>\n",
       "      <td>2019-12-09 09:29:10</td>\n",
       "    </tr>\n",
       "    <tr>\n",
       "      <td>2</td>\n",
       "      <td>3</td>\n",
       "      <td>Evan</td>\n",
       "      <td>evandd@yahoo.id</td>\n",
       "      <td>2019-12-09 09:29:10</td>\n",
       "    </tr>\n",
       "    <tr>\n",
       "      <td>3</td>\n",
       "      <td>4</td>\n",
       "      <td>Osvaldo</td>\n",
       "      <td>osvaldo@yahoo.id</td>\n",
       "      <td>2019-12-09 09:29:10</td>\n",
       "    </tr>\n",
       "  </tbody>\n",
       "</table>\n",
       "</div>"
      ],
      "text/plain": [
       "   id     nama              email               waktu\n",
       "0   1   Asnawi    asnawi@yahoo.id 2019-12-09 09:29:10\n",
       "1   2    Bagas  bagasadi@yahoo.id 2019-12-09 09:29:10\n",
       "2   3     Evan    evandd@yahoo.id 2019-12-09 09:29:10\n",
       "3   4  Osvaldo   osvaldo@yahoo.id 2019-12-09 09:29:10"
      ]
     },
     "execution_count": 18,
     "metadata": {},
     "output_type": "execute_result"
    }
   ],
   "source": [
    "dbku = mysql.connector.connect(\n",
    "    host = \"localhost\",\n",
    "    user = \"mnrclab\",\n",
    "    passwd = \"\",\n",
    "    database = \"pandas_tes\"\n",
    ")\n",
    "query = \"select * from employees\"\n",
    "df = pd.read_sql(query, dbku)\n",
    "df"
   ]
  },
  {
   "cell_type": "code",
   "execution_count": 14,
   "metadata": {},
   "outputs": [
    {
     "data": {
      "text/plain": [
       "id                int64\n",
       "nama             object\n",
       "email            object\n",
       "waktu    datetime64[ns]\n",
       "dtype: object"
      ]
     },
     "execution_count": 14,
     "metadata": {},
     "output_type": "execute_result"
    }
   ],
   "source": [
    "df.dtypes"
   ]
  },
  {
   "cell_type": "markdown",
   "metadata": {},
   "source": [
    "### 2. Database String URI"
   ]
  },
  {
   "cell_type": "code",
   "execution_count": 29,
   "metadata": {},
   "outputs": [
    {
     "data": {
      "text/html": [
       "<div>\n",
       "<style scoped>\n",
       "    .dataframe tbody tr th:only-of-type {\n",
       "        vertical-align: middle;\n",
       "    }\n",
       "\n",
       "    .dataframe tbody tr th {\n",
       "        vertical-align: top;\n",
       "    }\n",
       "\n",
       "    .dataframe thead th {\n",
       "        text-align: right;\n",
       "    }\n",
       "</style>\n",
       "<table border=\"1\" class=\"dataframe\">\n",
       "  <thead>\n",
       "    <tr style=\"text-align: right;\">\n",
       "      <th></th>\n",
       "      <th>id</th>\n",
       "      <th>nama</th>\n",
       "      <th>email</th>\n",
       "      <th>waktu</th>\n",
       "    </tr>\n",
       "  </thead>\n",
       "  <tbody>\n",
       "    <tr>\n",
       "      <td>0</td>\n",
       "      <td>1</td>\n",
       "      <td>Asnawi</td>\n",
       "      <td>asnawi@yahoo.id</td>\n",
       "      <td>2019-12-09 09:29:10</td>\n",
       "    </tr>\n",
       "    <tr>\n",
       "      <td>1</td>\n",
       "      <td>2</td>\n",
       "      <td>Bagas</td>\n",
       "      <td>bagasadi@yahoo.id</td>\n",
       "      <td>2019-12-09 09:29:10</td>\n",
       "    </tr>\n",
       "    <tr>\n",
       "      <td>2</td>\n",
       "      <td>3</td>\n",
       "      <td>Evan</td>\n",
       "      <td>evandd@yahoo.id</td>\n",
       "      <td>2019-12-09 09:29:10</td>\n",
       "    </tr>\n",
       "    <tr>\n",
       "      <td>3</td>\n",
       "      <td>4</td>\n",
       "      <td>Osvaldo</td>\n",
       "      <td>osvaldo@yahoo.id</td>\n",
       "      <td>2019-12-09 09:29:10</td>\n",
       "    </tr>\n",
       "  </tbody>\n",
       "</table>\n",
       "</div>"
      ],
      "text/plain": [
       "   id     nama              email               waktu\n",
       "0   1   Asnawi    asnawi@yahoo.id 2019-12-09 09:29:10\n",
       "1   2    Bagas  bagasadi@yahoo.id 2019-12-09 09:29:10\n",
       "2   3     Evan    evandd@yahoo.id 2019-12-09 09:29:10\n",
       "3   4  Osvaldo   osvaldo@yahoo.id 2019-12-09 09:29:10"
      ]
     },
     "execution_count": 29,
     "metadata": {},
     "output_type": "execute_result"
    }
   ],
   "source": [
    "query = \"select * from employees\"\n",
    "alamatDB = \"mysql://root:@localhost:3306/pandas_tes\"\n",
    "df = pd.read_sql(query, alamatDB)\n",
    "df"
   ]
  },
  {
   "cell_type": "markdown",
   "metadata": {},
   "source": [
    "### 3. MySQL Alchemy"
   ]
  },
  {
   "cell_type": "markdown",
   "metadata": {},
   "source": [
    "#### a. Cara Pertama"
   ]
  },
  {
   "cell_type": "code",
   "execution_count": 31,
   "metadata": {},
   "outputs": [],
   "source": [
    "import pandas as pd\n",
    "import sqlalchemy as sqlac"
   ]
  },
  {
   "cell_type": "code",
   "execution_count": 37,
   "metadata": {},
   "outputs": [
    {
     "data": {
      "text/html": [
       "<div>\n",
       "<style scoped>\n",
       "    .dataframe tbody tr th:only-of-type {\n",
       "        vertical-align: middle;\n",
       "    }\n",
       "\n",
       "    .dataframe tbody tr th {\n",
       "        vertical-align: top;\n",
       "    }\n",
       "\n",
       "    .dataframe thead th {\n",
       "        text-align: right;\n",
       "    }\n",
       "</style>\n",
       "<table border=\"1\" class=\"dataframe\">\n",
       "  <thead>\n",
       "    <tr style=\"text-align: right;\">\n",
       "      <th></th>\n",
       "      <th>id</th>\n",
       "      <th>nama</th>\n",
       "      <th>email</th>\n",
       "      <th>waktu</th>\n",
       "    </tr>\n",
       "  </thead>\n",
       "  <tbody>\n",
       "    <tr>\n",
       "      <td>0</td>\n",
       "      <td>1</td>\n",
       "      <td>Asnawi</td>\n",
       "      <td>asnawi@yahoo.id</td>\n",
       "      <td>2019-12-09 09:29:10</td>\n",
       "    </tr>\n",
       "    <tr>\n",
       "      <td>1</td>\n",
       "      <td>2</td>\n",
       "      <td>Bagas</td>\n",
       "      <td>bagasadi@yahoo.id</td>\n",
       "      <td>2019-12-09 09:29:10</td>\n",
       "    </tr>\n",
       "    <tr>\n",
       "      <td>2</td>\n",
       "      <td>3</td>\n",
       "      <td>Evan</td>\n",
       "      <td>evandd@yahoo.id</td>\n",
       "      <td>2019-12-09 09:29:10</td>\n",
       "    </tr>\n",
       "    <tr>\n",
       "      <td>3</td>\n",
       "      <td>4</td>\n",
       "      <td>Osvaldo</td>\n",
       "      <td>osvaldo@yahoo.id</td>\n",
       "      <td>2019-12-09 09:29:10</td>\n",
       "    </tr>\n",
       "  </tbody>\n",
       "</table>\n",
       "</div>"
      ],
      "text/plain": [
       "   id     nama              email               waktu\n",
       "0   1   Asnawi    asnawi@yahoo.id 2019-12-09 09:29:10\n",
       "1   2    Bagas  bagasadi@yahoo.id 2019-12-09 09:29:10\n",
       "2   3     Evan    evandd@yahoo.id 2019-12-09 09:29:10\n",
       "3   4  Osvaldo   osvaldo@yahoo.id 2019-12-09 09:29:10"
      ]
     },
     "execution_count": 37,
     "metadata": {},
     "output_type": "execute_result"
    }
   ],
   "source": [
    "query = 'select * from employees'\n",
    "engine = sqlac.create_engine(\n",
    "    'mysql://root:@localhost:3306/pandas_tes'\n",
    ")\n",
    "df = pd.read_sql(query, engine)\n",
    "df"
   ]
  },
  {
   "cell_type": "markdown",
   "metadata": {},
   "source": [
    "#### b. Cara Kedua"
   ]
  },
  {
   "cell_type": "code",
   "execution_count": 60,
   "metadata": {},
   "outputs": [
    {
     "data": {
      "text/html": [
       "<div>\n",
       "<style scoped>\n",
       "    .dataframe tbody tr th:only-of-type {\n",
       "        vertical-align: middle;\n",
       "    }\n",
       "\n",
       "    .dataframe tbody tr th {\n",
       "        vertical-align: top;\n",
       "    }\n",
       "\n",
       "    .dataframe thead th {\n",
       "        text-align: right;\n",
       "    }\n",
       "</style>\n",
       "<table border=\"1\" class=\"dataframe\">\n",
       "  <thead>\n",
       "    <tr style=\"text-align: right;\">\n",
       "      <th></th>\n",
       "      <th>id</th>\n",
       "      <th>nama</th>\n",
       "      <th>email</th>\n",
       "      <th>waktu</th>\n",
       "    </tr>\n",
       "  </thead>\n",
       "  <tbody>\n",
       "    <tr>\n",
       "      <td>0</td>\n",
       "      <td>1</td>\n",
       "      <td>Asnawi</td>\n",
       "      <td>asnawi@yahoo.id</td>\n",
       "      <td>2019-12-09 09:29:10</td>\n",
       "    </tr>\n",
       "    <tr>\n",
       "      <td>1</td>\n",
       "      <td>2</td>\n",
       "      <td>Bagas</td>\n",
       "      <td>bagasadi@yahoo.id</td>\n",
       "      <td>2019-12-09 09:29:10</td>\n",
       "    </tr>\n",
       "    <tr>\n",
       "      <td>2</td>\n",
       "      <td>3</td>\n",
       "      <td>Evan</td>\n",
       "      <td>evandd@yahoo.id</td>\n",
       "      <td>2019-12-09 09:29:10</td>\n",
       "    </tr>\n",
       "    <tr>\n",
       "      <td>3</td>\n",
       "      <td>4</td>\n",
       "      <td>Osvaldo</td>\n",
       "      <td>osvaldo@yahoo.id</td>\n",
       "      <td>2019-12-09 09:29:10</td>\n",
       "    </tr>\n",
       "  </tbody>\n",
       "</table>\n",
       "</div>"
      ],
      "text/plain": [
       "   id     nama              email               waktu\n",
       "0   1   Asnawi    asnawi@yahoo.id 2019-12-09 09:29:10\n",
       "1   2    Bagas  bagasadi@yahoo.id 2019-12-09 09:29:10\n",
       "2   3     Evan    evandd@yahoo.id 2019-12-09 09:29:10\n",
       "3   4  Osvaldo   osvaldo@yahoo.id 2019-12-09 09:29:10"
      ]
     },
     "execution_count": 60,
     "metadata": {},
     "output_type": "execute_result"
    }
   ],
   "source": [
    "engine = sqlac.create_engine(\n",
    "    'mysql://root:@localhost:3306/pandas_tes'\n",
    ")\n",
    "df1 = pd.read_sql('employees', engine)\n",
    "df1"
   ]
  },
  {
   "cell_type": "markdown",
   "metadata": {},
   "source": [
    "#### Hanya akses kolom tertentu"
   ]
  },
  {
   "cell_type": "code",
   "execution_count": 56,
   "metadata": {},
   "outputs": [
    {
     "data": {
      "text/html": [
       "<div>\n",
       "<style scoped>\n",
       "    .dataframe tbody tr th:only-of-type {\n",
       "        vertical-align: middle;\n",
       "    }\n",
       "\n",
       "    .dataframe tbody tr th {\n",
       "        vertical-align: top;\n",
       "    }\n",
       "\n",
       "    .dataframe thead th {\n",
       "        text-align: right;\n",
       "    }\n",
       "</style>\n",
       "<table border=\"1\" class=\"dataframe\">\n",
       "  <thead>\n",
       "    <tr style=\"text-align: right;\">\n",
       "      <th></th>\n",
       "      <th>nama</th>\n",
       "    </tr>\n",
       "  </thead>\n",
       "  <tbody>\n",
       "    <tr>\n",
       "      <td>0</td>\n",
       "      <td>Asnawi</td>\n",
       "    </tr>\n",
       "    <tr>\n",
       "      <td>1</td>\n",
       "      <td>Bagas</td>\n",
       "    </tr>\n",
       "    <tr>\n",
       "      <td>2</td>\n",
       "      <td>Evan</td>\n",
       "    </tr>\n",
       "    <tr>\n",
       "      <td>3</td>\n",
       "      <td>Osvaldo</td>\n",
       "    </tr>\n",
       "  </tbody>\n",
       "</table>\n",
       "</div>"
      ],
      "text/plain": [
       "      nama\n",
       "0   Asnawi\n",
       "1    Bagas\n",
       "2     Evan\n",
       "3  Osvaldo"
      ]
     },
     "execution_count": 56,
     "metadata": {},
     "output_type": "execute_result"
    }
   ],
   "source": [
    "engine = sqlac.create_engine(\n",
    "    'mysql://root:@localhost:3306/pandas_tes'\n",
    ")\n",
    "df2 = pd.read_sql('employees', engine, columns=['nama'])\n",
    "df2"
   ]
  },
  {
   "cell_type": "code",
   "execution_count": 57,
   "metadata": {},
   "outputs": [
    {
     "data": {
      "text/html": [
       "<div>\n",
       "<style scoped>\n",
       "    .dataframe tbody tr th:only-of-type {\n",
       "        vertical-align: middle;\n",
       "    }\n",
       "\n",
       "    .dataframe tbody tr th {\n",
       "        vertical-align: top;\n",
       "    }\n",
       "\n",
       "    .dataframe thead th {\n",
       "        text-align: right;\n",
       "    }\n",
       "</style>\n",
       "<table border=\"1\" class=\"dataframe\">\n",
       "  <thead>\n",
       "    <tr style=\"text-align: right;\">\n",
       "      <th></th>\n",
       "      <th>nama</th>\n",
       "      <th>waktu</th>\n",
       "    </tr>\n",
       "  </thead>\n",
       "  <tbody>\n",
       "    <tr>\n",
       "      <td>0</td>\n",
       "      <td>Asnawi</td>\n",
       "      <td>2019-12-09 09:29:10</td>\n",
       "    </tr>\n",
       "    <tr>\n",
       "      <td>1</td>\n",
       "      <td>Bagas</td>\n",
       "      <td>2019-12-09 09:29:10</td>\n",
       "    </tr>\n",
       "    <tr>\n",
       "      <td>2</td>\n",
       "      <td>Evan</td>\n",
       "      <td>2019-12-09 09:29:10</td>\n",
       "    </tr>\n",
       "    <tr>\n",
       "      <td>3</td>\n",
       "      <td>Osvaldo</td>\n",
       "      <td>2019-12-09 09:29:10</td>\n",
       "    </tr>\n",
       "  </tbody>\n",
       "</table>\n",
       "</div>"
      ],
      "text/plain": [
       "      nama               waktu\n",
       "0   Asnawi 2019-12-09 09:29:10\n",
       "1    Bagas 2019-12-09 09:29:10\n",
       "2     Evan 2019-12-09 09:29:10\n",
       "3  Osvaldo 2019-12-09 09:29:10"
      ]
     },
     "execution_count": 57,
     "metadata": {},
     "output_type": "execute_result"
    }
   ],
   "source": [
    "df3 = pd.read_sql('select nama, waktu from employees', engine)\n",
    "df3"
   ]
  },
  {
   "cell_type": "markdown",
   "metadata": {},
   "source": [
    "### d) Membuat Database From DataFrame"
   ]
  },
  {
   "cell_type": "markdown",
   "metadata": {},
   "source": [
    "#### i) Membuat Table 'daftarkaryawan' di Suatu Database"
   ]
  },
  {
   "cell_type": "code",
   "execution_count": null,
   "metadata": {},
   "outputs": [],
   "source": [
    "df3.to_sql(\n",
    "    name = 'daftarkaryawan', #PASTIKAN LOWERCASE\n",
    "    con = engine\n",
    ")"
   ]
  },
  {
   "cell_type": "markdown",
   "metadata": {},
   "source": [
    "#### ii) Membuat Table 'superheros' di Suatu Database"
   ]
  },
  {
   "cell_type": "code",
   "execution_count": 63,
   "metadata": {},
   "outputs": [],
   "source": [
    "df1.to_sql(\n",
    "    name = 'superheros',\n",
    "    con = engine,\n",
    ")"
   ]
  },
  {
   "cell_type": "markdown",
   "metadata": {},
   "source": [
    "#### iii) Menambahkan DataFrame (df1) ke Table Superhero"
   ]
  },
  {
   "cell_type": "code",
   "execution_count": 64,
   "metadata": {},
   "outputs": [],
   "source": [
    "df1.to_sql(\n",
    "    name = 'superheros',\n",
    "    con = engine,\n",
    "    if_exists = 'append'\n",
    ")"
   ]
  },
  {
   "cell_type": "markdown",
   "metadata": {},
   "source": [
    "#### iv) Me-replace Table 'superhero' dengan isi Dataframe df1"
   ]
  },
  {
   "cell_type": "code",
   "execution_count": 65,
   "metadata": {},
   "outputs": [],
   "source": [
    "df1.to_sql(\n",
    "    name = 'superheros',\n",
    "    con = engine,\n",
    "    if_exists = 'replace'\n",
    ")\n",
    "\n",
    "# setelah dijalankan bisa dicek di CMD"
   ]
  },
  {
   "cell_type": "markdown",
   "metadata": {},
   "source": [
    "### e) Mengupdate DataFrame"
   ]
  },
  {
   "cell_type": "code",
   "execution_count": 69,
   "metadata": {},
   "outputs": [
    {
     "data": {
      "text/html": [
       "<div>\n",
       "<style scoped>\n",
       "    .dataframe tbody tr th:only-of-type {\n",
       "        vertical-align: middle;\n",
       "    }\n",
       "\n",
       "    .dataframe tbody tr th {\n",
       "        vertical-align: top;\n",
       "    }\n",
       "\n",
       "    .dataframe thead th {\n",
       "        text-align: right;\n",
       "    }\n",
       "</style>\n",
       "<table border=\"1\" class=\"dataframe\">\n",
       "  <thead>\n",
       "    <tr style=\"text-align: right;\">\n",
       "      <th></th>\n",
       "      <th>id</th>\n",
       "      <th>nama</th>\n",
       "      <th>email</th>\n",
       "      <th>waktu</th>\n",
       "    </tr>\n",
       "  </thead>\n",
       "  <tbody>\n",
       "    <tr>\n",
       "      <td>0</td>\n",
       "      <td>5</td>\n",
       "      <td>Saddil</td>\n",
       "      <td>saddil@gmail.com</td>\n",
       "      <td>2019-12-10 10:22:31</td>\n",
       "    </tr>\n",
       "  </tbody>\n",
       "</table>\n",
       "</div>"
      ],
      "text/plain": [
       "   id    nama             email                waktu\n",
       "0   5  Saddil  saddil@gmail.com  2019-12-10 10:22:31"
      ]
     },
     "execution_count": 69,
     "metadata": {},
     "output_type": "execute_result"
    }
   ],
   "source": [
    "#Membuat dataframe baru\n",
    "newData = pd.DataFrame([\n",
    "    {'id':5, 'nama':'Saddil',\n",
    "    'email': 'saddil@gmail.com',\n",
    "    'waktu': '2019-12-10 10:22:31'\n",
    "    }\n",
    "])\n",
    "\n",
    "newData"
   ]
  },
  {
   "cell_type": "code",
   "execution_count": 74,
   "metadata": {},
   "outputs": [
    {
     "data": {
      "text/html": [
       "<div>\n",
       "<style scoped>\n",
       "    .dataframe tbody tr th:only-of-type {\n",
       "        vertical-align: middle;\n",
       "    }\n",
       "\n",
       "    .dataframe tbody tr th {\n",
       "        vertical-align: top;\n",
       "    }\n",
       "\n",
       "    .dataframe thead th {\n",
       "        text-align: right;\n",
       "    }\n",
       "</style>\n",
       "<table border=\"1\" class=\"dataframe\">\n",
       "  <thead>\n",
       "    <tr style=\"text-align: right;\">\n",
       "      <th></th>\n",
       "      <th>id</th>\n",
       "      <th>nama</th>\n",
       "      <th>email</th>\n",
       "      <th>waktu</th>\n",
       "    </tr>\n",
       "  </thead>\n",
       "  <tbody>\n",
       "    <tr>\n",
       "      <td>0</td>\n",
       "      <td>1</td>\n",
       "      <td>Asnawi</td>\n",
       "      <td>asnawi@yahoo.id</td>\n",
       "      <td>2019-12-09 09:29:10</td>\n",
       "    </tr>\n",
       "    <tr>\n",
       "      <td>1</td>\n",
       "      <td>2</td>\n",
       "      <td>Bagas</td>\n",
       "      <td>bagasadi@yahoo.id</td>\n",
       "      <td>2019-12-09 09:29:10</td>\n",
       "    </tr>\n",
       "    <tr>\n",
       "      <td>2</td>\n",
       "      <td>3</td>\n",
       "      <td>Evan</td>\n",
       "      <td>evandd@yahoo.id</td>\n",
       "      <td>2019-12-09 09:29:10</td>\n",
       "    </tr>\n",
       "    <tr>\n",
       "      <td>3</td>\n",
       "      <td>4</td>\n",
       "      <td>Osvaldo</td>\n",
       "      <td>osvaldo@yahoo.id</td>\n",
       "      <td>2019-12-09 09:29:10</td>\n",
       "    </tr>\n",
       "    <tr>\n",
       "      <td>4</td>\n",
       "      <td>5</td>\n",
       "      <td>Saddil</td>\n",
       "      <td>saddil@gmail.com</td>\n",
       "      <td>2019-12-10 10:22:31</td>\n",
       "    </tr>\n",
       "  </tbody>\n",
       "</table>\n",
       "</div>"
      ],
      "text/plain": [
       "   id     nama              email                waktu\n",
       "0   1   Asnawi    asnawi@yahoo.id  2019-12-09 09:29:10\n",
       "1   2    Bagas  bagasadi@yahoo.id  2019-12-09 09:29:10\n",
       "2   3     Evan    evandd@yahoo.id  2019-12-09 09:29:10\n",
       "3   4  Osvaldo   osvaldo@yahoo.id  2019-12-09 09:29:10\n",
       "4   5   Saddil   saddil@gmail.com  2019-12-10 10:22:31"
      ]
     },
     "execution_count": 74,
     "metadata": {},
     "output_type": "execute_result"
    }
   ],
   "source": [
    "#Menggabungkan dataframe baru ke Dataframe df1\n",
    "df4 = pd.concat([df1, newData], ignore_index=True)\n",
    "df4"
   ]
  },
  {
   "cell_type": "markdown",
   "metadata": {},
   "source": [
    "### f) Group & Find Data based on Date (Parsing Date)"
   ]
  },
  {
   "cell_type": "code",
   "execution_count": 76,
   "metadata": {},
   "outputs": [
    {
     "data": {
      "text/html": [
       "<div>\n",
       "<style scoped>\n",
       "    .dataframe tbody tr th:only-of-type {\n",
       "        vertical-align: middle;\n",
       "    }\n",
       "\n",
       "    .dataframe tbody tr th {\n",
       "        vertical-align: top;\n",
       "    }\n",
       "\n",
       "    .dataframe thead th {\n",
       "        text-align: right;\n",
       "    }\n",
       "</style>\n",
       "<table border=\"1\" class=\"dataframe\">\n",
       "  <thead>\n",
       "    <tr style=\"text-align: right;\">\n",
       "      <th></th>\n",
       "      <th>id</th>\n",
       "      <th>nama</th>\n",
       "      <th>email</th>\n",
       "    </tr>\n",
       "    <tr>\n",
       "      <th>waktu</th>\n",
       "      <th></th>\n",
       "      <th></th>\n",
       "      <th></th>\n",
       "    </tr>\n",
       "  </thead>\n",
       "  <tbody>\n",
       "    <tr>\n",
       "      <td>2019-12-09 09:29:10</td>\n",
       "      <td>1</td>\n",
       "      <td>Asnawi</td>\n",
       "      <td>asnawi@yahoo.id</td>\n",
       "    </tr>\n",
       "    <tr>\n",
       "      <td>2019-12-09 09:29:10</td>\n",
       "      <td>2</td>\n",
       "      <td>Bagas</td>\n",
       "      <td>bagasadi@yahoo.id</td>\n",
       "    </tr>\n",
       "    <tr>\n",
       "      <td>2019-12-09 09:29:10</td>\n",
       "      <td>3</td>\n",
       "      <td>Evan</td>\n",
       "      <td>evandd@yahoo.id</td>\n",
       "    </tr>\n",
       "    <tr>\n",
       "      <td>2019-12-09 09:29:10</td>\n",
       "      <td>4</td>\n",
       "      <td>Osvaldo</td>\n",
       "      <td>osvaldo@yahoo.id</td>\n",
       "    </tr>\n",
       "  </tbody>\n",
       "</table>\n",
       "</div>"
      ],
      "text/plain": [
       "                     id     nama              email\n",
       "waktu                                              \n",
       "2019-12-09 09:29:10   1   Asnawi    asnawi@yahoo.id\n",
       "2019-12-09 09:29:10   2    Bagas  bagasadi@yahoo.id\n",
       "2019-12-09 09:29:10   3     Evan    evandd@yahoo.id\n",
       "2019-12-09 09:29:10   4  Osvaldo   osvaldo@yahoo.id"
      ]
     },
     "execution_count": 76,
     "metadata": {},
     "output_type": "execute_result"
    }
   ],
   "source": [
    "dfX = pd.read_sql_query(\n",
    "    'select * from employees', engine,\n",
    "    parse_dates = ['waktu'], #untuk mengubah sebuah kolom menjadi date, untuk memastikan barangkali masih dalam bentuk string\n",
    "    index_col = 'waktu' #kolom waktu dijadikan index\n",
    ")\n",
    "dfX"
   ]
  },
  {
   "cell_type": "code",
   "execution_count": 77,
   "metadata": {},
   "outputs": [
    {
     "data": {
      "text/html": [
       "<div>\n",
       "<style scoped>\n",
       "    .dataframe tbody tr th:only-of-type {\n",
       "        vertical-align: middle;\n",
       "    }\n",
       "\n",
       "    .dataframe tbody tr th {\n",
       "        vertical-align: top;\n",
       "    }\n",
       "\n",
       "    .dataframe thead th {\n",
       "        text-align: right;\n",
       "    }\n",
       "</style>\n",
       "<table border=\"1\" class=\"dataframe\">\n",
       "  <thead>\n",
       "    <tr style=\"text-align: right;\">\n",
       "      <th></th>\n",
       "      <th>id</th>\n",
       "      <th>nama</th>\n",
       "      <th>email</th>\n",
       "    </tr>\n",
       "    <tr>\n",
       "      <th>waktu</th>\n",
       "      <th></th>\n",
       "      <th></th>\n",
       "      <th></th>\n",
       "    </tr>\n",
       "  </thead>\n",
       "  <tbody>\n",
       "    <tr>\n",
       "      <td>2019-12-09 09:29:10</td>\n",
       "      <td>1</td>\n",
       "      <td>Asnawi</td>\n",
       "      <td>asnawi@yahoo.id</td>\n",
       "    </tr>\n",
       "    <tr>\n",
       "      <td>2019-12-09 09:29:10</td>\n",
       "      <td>2</td>\n",
       "      <td>Bagas</td>\n",
       "      <td>bagasadi@yahoo.id</td>\n",
       "    </tr>\n",
       "    <tr>\n",
       "      <td>2019-12-09 09:29:10</td>\n",
       "      <td>3</td>\n",
       "      <td>Evan</td>\n",
       "      <td>evandd@yahoo.id</td>\n",
       "    </tr>\n",
       "    <tr>\n",
       "      <td>2019-12-09 09:29:10</td>\n",
       "      <td>4</td>\n",
       "      <td>Osvaldo</td>\n",
       "      <td>osvaldo@yahoo.id</td>\n",
       "    </tr>\n",
       "  </tbody>\n",
       "</table>\n",
       "</div>"
      ],
      "text/plain": [
       "                     id     nama              email\n",
       "waktu                                              \n",
       "2019-12-09 09:29:10   1   Asnawi    asnawi@yahoo.id\n",
       "2019-12-09 09:29:10   2    Bagas  bagasadi@yahoo.id\n",
       "2019-12-09 09:29:10   3     Evan    evandd@yahoo.id\n",
       "2019-12-09 09:29:10   4  Osvaldo   osvaldo@yahoo.id"
      ]
     },
     "execution_count": 77,
     "metadata": {},
     "output_type": "execute_result"
    }
   ],
   "source": [
    "#mengakses data yang hanya bulan Desember 2019\n",
    "dfX['2019-12']"
   ]
  },
  {
   "cell_type": "code",
   "execution_count": null,
   "metadata": {},
   "outputs": [],
   "source": []
  },
  {
   "cell_type": "code",
   "execution_count": 95,
   "metadata": {},
   "outputs": [
    {
     "data": {
      "text/html": [
       "<div>\n",
       "<style scoped>\n",
       "    .dataframe tbody tr th:only-of-type {\n",
       "        vertical-align: middle;\n",
       "    }\n",
       "\n",
       "    .dataframe tbody tr th {\n",
       "        vertical-align: top;\n",
       "    }\n",
       "\n",
       "    .dataframe thead th {\n",
       "        text-align: right;\n",
       "    }\n",
       "</style>\n",
       "<table border=\"1\" class=\"dataframe\">\n",
       "  <thead>\n",
       "    <tr style=\"text-align: right;\">\n",
       "      <th></th>\n",
       "      <th>id</th>\n",
       "      <th>nama</th>\n",
       "      <th>email</th>\n",
       "      <th>waktu</th>\n",
       "    </tr>\n",
       "  </thead>\n",
       "  <tbody>\n",
       "    <tr>\n",
       "      <td>0</td>\n",
       "      <td>1</td>\n",
       "      <td>Asnawi</td>\n",
       "      <td>asnawi@yahoo.id</td>\n",
       "      <td>2019-12-09 09:29:10</td>\n",
       "    </tr>\n",
       "    <tr>\n",
       "      <td>1</td>\n",
       "      <td>2</td>\n",
       "      <td>Bagas</td>\n",
       "      <td>bagasadi@yahoo.id</td>\n",
       "      <td>2019-12-09 09:29:10</td>\n",
       "    </tr>\n",
       "    <tr>\n",
       "      <td>2</td>\n",
       "      <td>3</td>\n",
       "      <td>Evan</td>\n",
       "      <td>evandd@yahoo.id</td>\n",
       "      <td>2019-12-09 09:29:10</td>\n",
       "    </tr>\n",
       "    <tr>\n",
       "      <td>3</td>\n",
       "      <td>4</td>\n",
       "      <td>Osvaldo</td>\n",
       "      <td>osvaldo@yahoo.id</td>\n",
       "      <td>2019-12-09 09:29:10</td>\n",
       "    </tr>\n",
       "    <tr>\n",
       "      <td>4</td>\n",
       "      <td>5</td>\n",
       "      <td>Saddil</td>\n",
       "      <td>saddil@gmail.com</td>\n",
       "      <td>2019-02-10 10:22:31</td>\n",
       "    </tr>\n",
       "  </tbody>\n",
       "</table>\n",
       "</div>"
      ],
      "text/plain": [
       "   id     nama              email               waktu\n",
       "0   1   Asnawi    asnawi@yahoo.id 2019-12-09 09:29:10\n",
       "1   2    Bagas  bagasadi@yahoo.id 2019-12-09 09:29:10\n",
       "2   3     Evan    evandd@yahoo.id 2019-12-09 09:29:10\n",
       "3   4  Osvaldo   osvaldo@yahoo.id 2019-12-09 09:29:10\n",
       "4   5   Saddil   saddil@gmail.com 2019-02-10 10:22:31"
      ]
     },
     "execution_count": 95,
     "metadata": {},
     "output_type": "execute_result"
    }
   ],
   "source": [
    "newData = pd.DataFrame([\n",
    "    {'id':5, 'nama':'Saddil',\n",
    "    'email': 'saddil@gmail.com',\n",
    "    'waktu': '2019-02-10 10:22:31'\n",
    "    }\n",
    "])\n",
    "# newData['waktu'] = pd.to_datetime(newData['waktu']) #cara pertama\n",
    "newData['waktu'] = newData['waktu'].astype('datetime64') #cara kedua\n",
    "\n",
    "dfX = pd.read_sql_query(\n",
    "    'select * from employees', engine,\n",
    "    parse_dates = ['waktu']\n",
    ")\n",
    "\n",
    "dfA = pd.concat([dfX, newData], ignore_index=True)\n",
    "dfA"
   ]
  },
  {
   "cell_type": "code",
   "execution_count": 96,
   "metadata": {},
   "outputs": [
    {
     "data": {
      "text/html": [
       "<div>\n",
       "<style scoped>\n",
       "    .dataframe tbody tr th:only-of-type {\n",
       "        vertical-align: middle;\n",
       "    }\n",
       "\n",
       "    .dataframe tbody tr th {\n",
       "        vertical-align: top;\n",
       "    }\n",
       "\n",
       "    .dataframe thead th {\n",
       "        text-align: right;\n",
       "    }\n",
       "</style>\n",
       "<table border=\"1\" class=\"dataframe\">\n",
       "  <thead>\n",
       "    <tr style=\"text-align: right;\">\n",
       "      <th></th>\n",
       "      <th>id</th>\n",
       "      <th>nama</th>\n",
       "      <th>email</th>\n",
       "    </tr>\n",
       "    <tr>\n",
       "      <th>waktu</th>\n",
       "      <th></th>\n",
       "      <th></th>\n",
       "      <th></th>\n",
       "    </tr>\n",
       "  </thead>\n",
       "  <tbody>\n",
       "    <tr>\n",
       "      <td>2019-12-09 09:29:10</td>\n",
       "      <td>1</td>\n",
       "      <td>Asnawi</td>\n",
       "      <td>asnawi@yahoo.id</td>\n",
       "    </tr>\n",
       "    <tr>\n",
       "      <td>2019-12-09 09:29:10</td>\n",
       "      <td>2</td>\n",
       "      <td>Bagas</td>\n",
       "      <td>bagasadi@yahoo.id</td>\n",
       "    </tr>\n",
       "    <tr>\n",
       "      <td>2019-12-09 09:29:10</td>\n",
       "      <td>3</td>\n",
       "      <td>Evan</td>\n",
       "      <td>evandd@yahoo.id</td>\n",
       "    </tr>\n",
       "    <tr>\n",
       "      <td>2019-12-09 09:29:10</td>\n",
       "      <td>4</td>\n",
       "      <td>Osvaldo</td>\n",
       "      <td>osvaldo@yahoo.id</td>\n",
       "    </tr>\n",
       "    <tr>\n",
       "      <td>2019-02-10 10:22:31</td>\n",
       "      <td>5</td>\n",
       "      <td>Saddil</td>\n",
       "      <td>saddil@gmail.com</td>\n",
       "    </tr>\n",
       "  </tbody>\n",
       "</table>\n",
       "</div>"
      ],
      "text/plain": [
       "                     id     nama              email\n",
       "waktu                                              \n",
       "2019-12-09 09:29:10   1   Asnawi    asnawi@yahoo.id\n",
       "2019-12-09 09:29:10   2    Bagas  bagasadi@yahoo.id\n",
       "2019-12-09 09:29:10   3     Evan    evandd@yahoo.id\n",
       "2019-12-09 09:29:10   4  Osvaldo   osvaldo@yahoo.id\n",
       "2019-02-10 10:22:31   5   Saddil   saddil@gmail.com"
      ]
     },
     "execution_count": 96,
     "metadata": {},
     "output_type": "execute_result"
    }
   ],
   "source": [
    "dfA.set_index('waktu', inplace=True)\n",
    "dfA"
   ]
  },
  {
   "cell_type": "code",
   "execution_count": 98,
   "metadata": {},
   "outputs": [
    {
     "data": {
      "text/html": [
       "<div>\n",
       "<style scoped>\n",
       "    .dataframe tbody tr th:only-of-type {\n",
       "        vertical-align: middle;\n",
       "    }\n",
       "\n",
       "    .dataframe tbody tr th {\n",
       "        vertical-align: top;\n",
       "    }\n",
       "\n",
       "    .dataframe thead th {\n",
       "        text-align: right;\n",
       "    }\n",
       "</style>\n",
       "<table border=\"1\" class=\"dataframe\">\n",
       "  <thead>\n",
       "    <tr style=\"text-align: right;\">\n",
       "      <th></th>\n",
       "      <th>id</th>\n",
       "      <th>nama</th>\n",
       "      <th>email</th>\n",
       "    </tr>\n",
       "    <tr>\n",
       "      <th>waktu</th>\n",
       "      <th></th>\n",
       "      <th></th>\n",
       "      <th></th>\n",
       "    </tr>\n",
       "  </thead>\n",
       "  <tbody>\n",
       "    <tr>\n",
       "      <td>2019-12-09 09:29:10</td>\n",
       "      <td>1</td>\n",
       "      <td>Asnawi</td>\n",
       "      <td>asnawi@yahoo.id</td>\n",
       "    </tr>\n",
       "    <tr>\n",
       "      <td>2019-12-09 09:29:10</td>\n",
       "      <td>2</td>\n",
       "      <td>Bagas</td>\n",
       "      <td>bagasadi@yahoo.id</td>\n",
       "    </tr>\n",
       "    <tr>\n",
       "      <td>2019-12-09 09:29:10</td>\n",
       "      <td>3</td>\n",
       "      <td>Evan</td>\n",
       "      <td>evandd@yahoo.id</td>\n",
       "    </tr>\n",
       "    <tr>\n",
       "      <td>2019-12-09 09:29:10</td>\n",
       "      <td>4</td>\n",
       "      <td>Osvaldo</td>\n",
       "      <td>osvaldo@yahoo.id</td>\n",
       "    </tr>\n",
       "  </tbody>\n",
       "</table>\n",
       "</div>"
      ],
      "text/plain": [
       "                     id     nama              email\n",
       "waktu                                              \n",
       "2019-12-09 09:29:10   1   Asnawi    asnawi@yahoo.id\n",
       "2019-12-09 09:29:10   2    Bagas  bagasadi@yahoo.id\n",
       "2019-12-09 09:29:10   3     Evan    evandd@yahoo.id\n",
       "2019-12-09 09:29:10   4  Osvaldo   osvaldo@yahoo.id"
      ]
     },
     "execution_count": 98,
     "metadata": {},
     "output_type": "execute_result"
    }
   ],
   "source": [
    "dfA['2019-12']"
   ]
  },
  {
   "cell_type": "code",
   "execution_count": 99,
   "metadata": {},
   "outputs": [
    {
     "data": {
      "text/html": [
       "<div>\n",
       "<style scoped>\n",
       "    .dataframe tbody tr th:only-of-type {\n",
       "        vertical-align: middle;\n",
       "    }\n",
       "\n",
       "    .dataframe tbody tr th {\n",
       "        vertical-align: top;\n",
       "    }\n",
       "\n",
       "    .dataframe thead th {\n",
       "        text-align: right;\n",
       "    }\n",
       "</style>\n",
       "<table border=\"1\" class=\"dataframe\">\n",
       "  <thead>\n",
       "    <tr style=\"text-align: right;\">\n",
       "      <th></th>\n",
       "      <th>id</th>\n",
       "      <th>nama</th>\n",
       "      <th>email</th>\n",
       "    </tr>\n",
       "    <tr>\n",
       "      <th>waktu</th>\n",
       "      <th></th>\n",
       "      <th></th>\n",
       "      <th></th>\n",
       "    </tr>\n",
       "  </thead>\n",
       "  <tbody>\n",
       "    <tr>\n",
       "      <td>2019-02-10 10:22:31</td>\n",
       "      <td>5</td>\n",
       "      <td>Saddil</td>\n",
       "      <td>saddil@gmail.com</td>\n",
       "    </tr>\n",
       "  </tbody>\n",
       "</table>\n",
       "</div>"
      ],
      "text/plain": [
       "                     id    nama             email\n",
       "waktu                                            \n",
       "2019-02-10 10:22:31   5  Saddil  saddil@gmail.com"
      ]
     },
     "execution_count": 99,
     "metadata": {},
     "output_type": "execute_result"
    }
   ],
   "source": [
    "dfA['2019-02']"
   ]
  },
  {
   "cell_type": "code",
   "execution_count": null,
   "metadata": {},
   "outputs": [],
   "source": []
  },
  {
   "cell_type": "code",
   "execution_count": null,
   "metadata": {},
   "outputs": [],
   "source": []
  },
  {
   "cell_type": "code",
   "execution_count": null,
   "metadata": {},
   "outputs": [],
   "source": []
  },
  {
   "cell_type": "code",
   "execution_count": null,
   "metadata": {},
   "outputs": [],
   "source": []
  },
  {
   "cell_type": "code",
   "execution_count": null,
   "metadata": {},
   "outputs": [],
   "source": []
  },
  {
   "cell_type": "code",
   "execution_count": null,
   "metadata": {},
   "outputs": [],
   "source": []
  },
  {
   "cell_type": "code",
   "execution_count": null,
   "metadata": {},
   "outputs": [],
   "source": []
  },
  {
   "cell_type": "code",
   "execution_count": null,
   "metadata": {},
   "outputs": [],
   "source": []
  }
 ],
 "metadata": {
  "kernelspec": {
   "display_name": "Python 3",
   "language": "python",
   "name": "python3"
  },
  "language_info": {
   "codemirror_mode": {
    "name": "ipython",
    "version": 3
   },
   "file_extension": ".py",
   "mimetype": "text/x-python",
   "name": "python",
   "nbconvert_exporter": "python",
   "pygments_lexer": "ipython3",
   "version": "3.7.4"
  }
 },
 "nbformat": 4,
 "nbformat_minor": 4
}
