{
 "cells": [
  {
   "cell_type": "markdown",
   "metadata": {},
   "source": [
    "# **API & WebSraping**"
   ]
  },
  {
   "cell_type": "code",
   "execution_count": 2,
   "metadata": {},
   "outputs": [],
   "source": [
    "import requests"
   ]
  },
  {
   "cell_type": "markdown",
   "metadata": {},
   "source": [
    "Learn more from this site:\n",
    "https://realpython.com/python-requests/"
   ]
  },
  {
   "cell_type": "markdown",
   "metadata": {},
   "source": [
    "## Akses Data dari Web"
   ]
  },
  {
   "cell_type": "code",
   "execution_count": 12,
   "metadata": {},
   "outputs": [
    {
     "data": {
      "text/plain": [
       "<Response [200]>"
      ]
     },
     "execution_count": 12,
     "metadata": {},
     "output_type": "execute_result"
    }
   ],
   "source": [
    "url = 'https://www.thesportsdb.com/api/v1/json/1/searchplayers.php?t=Liverpool'\n",
    "data = requests.get(url)\n",
    "data"
   ]
  },
  {
   "cell_type": "markdown",
   "metadata": {},
   "source": [
    "## Membuka Data berupa Json"
   ]
  },
  {
   "cell_type": "code",
   "execution_count": 36,
   "metadata": {},
   "outputs": [
    {
     "data": {
      "text/plain": [
       "'1993-08-15'"
      ]
     },
     "execution_count": 36,
     "metadata": {},
     "output_type": "execute_result"
    }
   ],
   "source": [
    "data.json()['player'][0]['strPlayer']\n",
    "data.json()['player'][0]['dateBorn']"
   ]
  },
  {
   "cell_type": "code",
   "execution_count": 43,
   "metadata": {},
   "outputs": [
    {
     "data": {
      "text/plain": [
       "['Alex Oxlade-Chamberlain',\n",
       " 'Mohamed Salah',\n",
       " 'James Milner',\n",
       " 'Nathaniel Clyne',\n",
       " 'Sadio Mane',\n",
       " 'Andrew Robertson',\n",
       " 'Simon Mignolet',\n",
       " 'Jordan Henderson',\n",
       " 'Dejan Lovren',\n",
       " 'Adam Lallana',\n",
       " 'Divock Origi',\n",
       " 'Adrian',\n",
       " 'Xherdan Shaqiri',\n",
       " 'Virgil van Dijk',\n",
       " 'Alisson Becker',\n",
       " 'Joseph Gomez',\n",
       " 'Andy Lonergan',\n",
       " 'Fabinho',\n",
       " 'Roberto Firmino',\n",
       " 'Joel Matip',\n",
       " 'Georginio Wijnaldum',\n",
       " 'Trent Alexander-Arnold',\n",
       " 'Naby Keïta',\n",
       " 'Jürgen Klopp',\n",
       " ['1993-08-15',\n",
       "  '1992-06-15',\n",
       "  '1986-01-04',\n",
       "  '1991-04-05',\n",
       "  '1992-04-10',\n",
       "  '1994-03-11',\n",
       "  '1988-03-06',\n",
       "  '1990-06-17',\n",
       "  '1989-07-05',\n",
       "  '1988-05-10',\n",
       "  '1995-04-18',\n",
       "  '1987-01-03',\n",
       "  '1991-10-10',\n",
       "  '1991-07-08',\n",
       "  '1992-10-02',\n",
       "  '1997-05-23',\n",
       "  '1983-10-19',\n",
       "  '1993-10-23',\n",
       "  '1991-10-02',\n",
       "  '1991-08-08',\n",
       "  '1990-11-11',\n",
       "  '1998-10-07',\n",
       "  '1995-02-10',\n",
       "  '1967-06-16']]"
      ]
     },
     "execution_count": 43,
     "metadata": {},
     "output_type": "execute_result"
    }
   ],
   "source": [
    "listofName = []\n",
    "listofBorn = []\n",
    "\n",
    "for i in range(len(data.json()['player'])):\n",
    "    listofName.append(data.json()['player'][i]['strPlayer'])\n",
    "    listofBorn.append(data.json()['player'][i]['dateBorn'])                  \n",
    "listofName.append(listofBorn)\n",
    "listofName\n"
   ]
  },
  {
   "cell_type": "code",
   "execution_count": 25,
   "metadata": {},
   "outputs": [
    {
     "data": {
      "text/plain": [
       "'Alex Oxlade-Chamberlain'"
      ]
     },
     "execution_count": 25,
     "metadata": {},
     "output_type": "execute_result"
    }
   ],
   "source": [
    "data.json()['player'][0]['strPlayer']"
   ]
  },
  {
   "cell_type": "code",
   "execution_count": 44,
   "metadata": {},
   "outputs": [],
   "source": [
    "# print(data.json()['address'])\n",
    "# print(data.json()['name'])\n",
    "# print(type(data.json()))\n",
    "# print(data.json()['address']['street'])"
   ]
  },
  {
   "cell_type": "code",
   "execution_count": 45,
   "metadata": {},
   "outputs": [],
   "source": [
    "\n",
    "# for i in data.json():\n",
    "#     print(i['name'], 'di Jl.', i['address']['street'])"
   ]
  },
  {
   "cell_type": "code",
   "execution_count": null,
   "metadata": {},
   "outputs": [],
   "source": [
    "\n",
    "\n",
    "\n",
    "\n",
    "\n",
    "# import requests\n",
    "# klub = input('Ketik klub: ')\n",
    "# url = f'https://www.thesportsdb.com/api/v1/json/1/searchplayers.php?t={klub}'\n",
    "# data = requests.get(url)\n",
    "# players = data.json()['player']\n",
    "\n",
    "# for player in players:\n",
    "#     print(f\"{player['strPlayer']} ({player['strPosition']})\")\n",
    "\n",
    "\n",
    "#API Key for Weather: 459d9e04c30f301451da1b16999bfc5b\n",
    "\n",
    "\n",
    "\n",
    "# import requests\n",
    "# url = 'http://quotes.rest/qod'\n",
    "# data = requests.get(url)\n",
    "# data = data.json()\n",
    "# print(data)\n",
    "# print(data['contents']['quotes'][])\n",
    "\n",
    "\n",
    "# import requests\n",
    "\n",
    "# x = '&appid=459d9e04c30f301451da1b16999bfc5b'\n",
    "# y = input('Ketik kota: ')\n",
    "# url = f'http://api.openweathermap.org/data/2.5/weather?q={y}{x}'\n",
    "# data = requests.get(url)\n",
    "# data = data.json()\n",
    "# sunrise = data['sys']['sunrise']\n",
    "# # sunset = data['sys']['sunset']\n",
    "\n",
    "# from datetime import datetime\n",
    "# waktu = datetime.utcfromtimestamp(int(sunrise))\n",
    "# print(int(waktu.strftime('%d'))+1)\n",
    "# print(int(waktu.strftime('%H'))+7-24)\n",
    "\n"
   ]
  },
  {
   "cell_type": "code",
   "execution_count": null,
   "metadata": {},
   "outputs": [],
   "source": []
  },
  {
   "cell_type": "code",
   "execution_count": null,
   "metadata": {},
   "outputs": [],
   "source": []
  }
 ],
 "metadata": {
  "kernelspec": {
   "display_name": "Python 3",
   "language": "python",
   "name": "python3"
  },
  "language_info": {
   "codemirror_mode": {
    "name": "ipython",
    "version": 3
   },
   "file_extension": ".py",
   "mimetype": "text/x-python",
   "name": "python",
   "nbconvert_exporter": "python",
   "pygments_lexer": "ipython3",
   "version": "3.7.4"
  }
 },
 "nbformat": 4,
 "nbformat_minor": 4
}
