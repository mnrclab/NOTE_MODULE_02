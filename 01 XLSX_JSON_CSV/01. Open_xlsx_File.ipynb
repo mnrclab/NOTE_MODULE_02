{
 "cells": [
  {
   "cell_type": "markdown",
   "metadata": {},
   "source": [
    "# **Handling File**"
   ]
  },
  {
   "cell_type": "markdown",
   "metadata": {},
   "source": [
    "## **A. File Excel**"
   ]
  },
  {
   "cell_type": "markdown",
   "metadata": {},
   "source": [
    "### **A.1. Membuat Akses ke File Excel**"
   ]
  },
  {
   "cell_type": "code",
   "execution_count": 2,
   "metadata": {},
   "outputs": [],
   "source": [
    "import xlrd"
   ]
  },
  {
   "cell_type": "code",
   "execution_count": 3,
   "metadata": {},
   "outputs": [
    {
     "data": {
      "text/plain": [
       "<xlrd.sheet.Sheet at 0xddddb0c48>"
      ]
     },
     "execution_count": 3,
     "metadata": {},
     "output_type": "execute_result"
    }
   ],
   "source": [
    "file = xlrd.open_workbook('file.xlsx')\n",
    "\n",
    "# untuk akses data ke sheet kerja di excel. kalau belum ada nama, jadi pake index\n",
    "# sheet = file.sheet_by_index(0)              \n",
    "\n",
    "# untuk akses data ke sheet kerja di excel based on name of sheet\n",
    "sheet = file.sheet_by_name('DataKaryawan')   \n",
    "sheet"
   ]
  },
  {
   "cell_type": "markdown",
   "metadata": {},
   "source": [
    "### **A.2. Akses Isi Data**"
   ]
  },
  {
   "cell_type": "code",
   "execution_count": 29,
   "metadata": {},
   "outputs": [
    {
     "name": "stdout",
     "output_type": "stream",
     "text": [
      "['No.', 'nama', 'kota', 'umur']\n"
     ]
    }
   ],
   "source": [
    "# CEK JUMLAH BARIS DAN KOLOM\n",
    "# print(sheet.nrows, sheet.ncols)\n",
    "\n",
    "# CEK JUMLAH BARIS\n",
    "# print(sheet.nrows)\n",
    "\n",
    "# CEK JUMLAH KOLOM\n",
    "# print(sheet.ncols)\n",
    "\n",
    "# CEK DATA DI CELL : baris ke-0, kolom ke-0\n",
    "# print(sheet.cell_value(0,0))                 \n",
    "\n",
    "# CEK DATA DI CELL: baris ke-0, kolom ke-1\n",
    "# print(sheet.cell_value(1,1)) \n",
    "\n",
    "# CEK DATA DI KOLOM KE - 0\n",
    "# print(sheet.col_values(0))\n",
    "\n",
    "# CEK DATA DI BARIS KE - 0\n",
    "print(sheet.row_values(0))"
   ]
  },
  {
   "cell_type": "code",
   "execution_count": 23,
   "metadata": {},
   "outputs": [
    {
     "name": "stdout",
     "output_type": "stream",
     "text": [
      "['No.', 'nama', 'kota', 'umur']\n",
      "[1.0, 'Andi', 'Jakarta ', 21.0]\n",
      "[2.0, 'Budi', 'Bandung', 22.0]\n",
      "[3.0, 'Caca', 'Surabaya', 23.0]\n"
     ]
    }
   ],
   "source": [
    "# MENGAKSES SELURUH DATA MENGGUNAKAN FOR LOOP dari jumlah baris\n",
    "for i in range(sheet.nrows):\n",
    "    print(sheet.row_values(i))\n",
    "\n",
    "#jadinya bagus seperti tabel dengan keterangan kolom di atasnya"
   ]
  },
  {
   "cell_type": "code",
   "execution_count": 24,
   "metadata": {},
   "outputs": [
    {
     "name": "stdout",
     "output_type": "stream",
     "text": [
      "['No.', 1.0, 2.0, 3.0]\n",
      "['nama', 'Andi', 'Budi', 'Caca']\n",
      "['kota', 'Jakarta ', 'Bandung', 'Surabaya']\n",
      "['umur', 21.0, 22.0, 23.0]\n"
     ]
    }
   ],
   "source": [
    "# MENGAKSES SELURUH DATA MENGGUNAKAN FOR LOOP dari jumlah kolom\n",
    "for i in range(sheet.ncols):\n",
    "    print(sheet.col_values(i))\n",
    "    \n",
    "# jadinya tiap baris akan diisi dengan suatu variabel tertentu"
   ]
  },
  {
   "cell_type": "code",
   "execution_count": 36,
   "metadata": {},
   "outputs": [
    {
     "name": "stdout",
     "output_type": "stream",
     "text": [
      "No.\n",
      "nama\n",
      "kota\n",
      "umur\n"
     ]
    }
   ],
   "source": [
    "# AKSES NAMA KOLOM MENGGUNAKAN cell value\n",
    "\n",
    "for i in range(sheet.ncols):\n",
    "    print(sheet.cell_value(0, i))"
   ]
  },
  {
   "cell_type": "code",
   "execution_count": 34,
   "metadata": {},
   "outputs": [
    {
     "data": {
      "text/plain": [
       "['No.', 'nama', 'kota', 'umur']"
      ]
     },
     "execution_count": 34,
     "metadata": {},
     "output_type": "execute_result"
    }
   ],
   "source": [
    "# AKSES NAMA KOLOM MENGGUNAKAN row value\n",
    "\n",
    "sheet.row_values(0)"
   ]
  }
 ],
 "metadata": {
  "kernelspec": {
   "display_name": "Python 3",
   "language": "python",
   "name": "python3"
  },
  "language_info": {
   "codemirror_mode": {
    "name": "ipython",
    "version": 3
   },
   "file_extension": ".py",
   "mimetype": "text/x-python",
   "name": "python",
   "nbconvert_exporter": "python",
   "pygments_lexer": "ipython3",
   "version": "3.7.4"
  }
 },
 "nbformat": 4,
 "nbformat_minor": 4
}
