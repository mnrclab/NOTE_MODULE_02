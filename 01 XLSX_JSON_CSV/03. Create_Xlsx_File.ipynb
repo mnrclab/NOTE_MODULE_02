{
 "cells": [
  {
   "cell_type": "markdown",
   "metadata": {},
   "source": [
    "# **Create Xlsx File**"
   ]
  },
  {
   "cell_type": "markdown",
   "metadata": {},
   "source": [
    "### **A. Membuat File Excel Baru**"
   ]
  },
  {
   "cell_type": "markdown",
   "metadata": {},
   "source": [
    "Membuat file excel baru dengan nama test123.xlsx dan membuat worksheet dengan nama DataKaryawan. Kemudian mengisi datanya dengan syntax ```sheet.write(0,0, ''Nama)```. Artinya menulis data pada sheet (baris 0 dan kolom 0) dengan data __'nama'__. Terakhir jangan lupa, untuk menulis ```file.close()``` untuk menutup perintah sekaligus menjalankan perintah membuat file baru."
   ]
  },
  {
   "cell_type": "code",
   "execution_count": 4,
   "metadata": {},
   "outputs": [],
   "source": [
    "import xlsxwriter\n",
    "\n",
    "file = xlsxwriter.Workbook('test123.xlsx')\n",
    "sheet = file.add_worksheet('DataKaryawan')\n",
    "\n",
    "sheet.write(0, 0, 'Nama') #row, col, data\n",
    "sheet.write(0, 1, 'Kota') #row, col, data\n",
    "sheet.write(0, 2, 'Job') #row, col, data\n",
    "\n",
    "file.close() #untuk menutup perintah sebelumnya dan menjalankan perintah membuat file baru"
   ]
  },
  {
   "cell_type": "markdown",
   "metadata": {},
   "source": [
    "### **B. Membuat File Excel Baru dari Data File Excel Lama**"
   ]
  },
  {
   "cell_type": "code",
   "execution_count": 8,
   "metadata": {},
   "outputs": [
    {
     "name": "stdout",
     "output_type": "stream",
     "text": [
      "[['No.', 'nama', 'kota', 'umur'], [1.0, 'Andi', 'Jakarta ', 21.0], [2.0, 'Budi', 'Bandung', 22.0], [3.0, 'Caca', 'Surabaya', 23.0]]\n"
     ]
    }
   ],
   "source": [
    "# MEMBUKA FILE EXCEL LAMA\n",
    "\n",
    "import xlrd\n",
    "file = xlrd.open_workbook('file.xlsx')\n",
    "sheet = file.sheet_by_name('DataKaryawan')\n",
    "\n",
    "# MENGAKSES ISI DATA DAN MENYIMPANNYA KE DALAM LIST\n",
    "data = []\n",
    "for i in range(sheet.nrows):\n",
    "    data.append(sheet.row_values(i)) \n",
    "print(data)"
   ]
  },
  {
   "cell_type": "markdown",
   "metadata": {},
   "source": [
    "#### **B.1. Cara Pertama**"
   ]
  },
  {
   "cell_type": "code",
   "execution_count": 11,
   "metadata": {},
   "outputs": [],
   "source": [
    "header = data[0]\n",
    "value = data[1:]\n",
    "\n",
    "import xlsxwriter\n",
    "file_baru = xlsxwriter.Workbook('test1234.xlsx')\n",
    "sheet = file_baru.add_worksheet('DataKaryawan')\n",
    "\n",
    "for i in range(len(value)+1):\n",
    "    for j in range(len(header)):\n",
    "        sheet.write(i, j, data[i][j])\n",
    "\n",
    "file_baru.close()"
   ]
  },
  {
   "cell_type": "markdown",
   "metadata": {},
   "source": [
    "#### **B.2. Cara Kedua**"
   ]
  },
  {
   "cell_type": "code",
   "execution_count": 15,
   "metadata": {},
   "outputs": [],
   "source": [
    "col = data[0]\n",
    "data = data[1:]\n",
    "\n",
    "import xlsxwriter\n",
    "filebaru = xlsxwriter.Workbook('test12345.xlsx')\n",
    "sheet = filebaru.add_worksheet('DataSiswa')\n",
    "\n",
    "#write col\n",
    "for i in col:\n",
    "    sheet.write(0, col.index(i), i)\n",
    "\n",
    "#write data\n",
    "row = 1\n",
    "for x, y, z in data:\n",
    "    sheet.write(row, 0, x)\n",
    "    sheet.write(row, 1, y)\n",
    "    sheet.write(row, 2, z)\n",
    "    row += 1\n",
    "\n",
    "filebaru.close()"
   ]
  }
 ],
 "metadata": {
  "kernelspec": {
   "display_name": "Python 3",
   "language": "python",
   "name": "python3"
  },
  "language_info": {
   "codemirror_mode": {
    "name": "ipython",
    "version": 3
   },
   "file_extension": ".py",
   "mimetype": "text/x-python",
   "name": "python",
   "nbconvert_exporter": "python",
   "pygments_lexer": "ipython3",
   "version": "3.7.4"
  }
 },
 "nbformat": 4,
 "nbformat_minor": 4
}
