{
 "cells": [
  {
   "cell_type": "markdown",
   "metadata": {},
   "source": [
    "# **Converting FIles**"
   ]
  },
  {
   "cell_type": "markdown",
   "metadata": {},
   "source": [
    "### **A. Membuka File Xlsx**"
   ]
  },
  {
   "cell_type": "code",
   "execution_count": 3,
   "metadata": {},
   "outputs": [],
   "source": [
    "import xlrd"
   ]
  },
  {
   "cell_type": "code",
   "execution_count": 4,
   "metadata": {},
   "outputs": [
    {
     "data": {
      "text/plain": [
       "<xlrd.sheet.Sheet at 0x3bfeef9448>"
      ]
     },
     "execution_count": 4,
     "metadata": {},
     "output_type": "execute_result"
    }
   ],
   "source": [
    "file = xlrd.open_workbook('file.xlsx')\n",
    "\n",
    "# untuk akses data ke sheet kerja di excel. kalau belum ada nama, jadi pake index\n",
    "sheet = file.sheet_by_index(0)              \n",
    " \n",
    "sheet"
   ]
  },
  {
   "cell_type": "markdown",
   "metadata": {},
   "source": [
    "### **B. Mengambil Isi File Xlsx**"
   ]
  },
  {
   "cell_type": "code",
   "execution_count": 8,
   "metadata": {},
   "outputs": [
    {
     "name": "stdout",
     "output_type": "stream",
     "text": [
      "[['No.', 'nama', 'kota', 'umur'], [1.0, 'Andi', 'Jakarta ', 21.0], [2.0, 'Budi', 'Bandung', 22.0], [3.0, 'Caca', 'Surabaya', 23.0]]\n"
     ]
    }
   ],
   "source": [
    "data = []\n",
    "for i in range(sheet.nrows):\n",
    "    data.append(sheet.row_values(i)) \n",
    "print(data)"
   ]
  },
  {
   "cell_type": "markdown",
   "metadata": {},
   "source": [
    "### **C. Mengubah List menjadi Dictionary**"
   ]
  },
  {
   "cell_type": "code",
   "execution_count": 11,
   "metadata": {},
   "outputs": [
    {
     "name": "stdout",
     "output_type": "stream",
     "text": [
      "[{'No.': 1.0, 'nama': 'Andi', 'kota': 'Jakarta ', 'umur': 21.0}, {'No.': 2.0, 'nama': 'Budi', 'kota': 'Bandung', 'umur': 22.0}, {'No.': 3.0, 'nama': 'Caca', 'kota': 'Surabaya', 'umur': 23.0}]\n"
     ]
    }
   ],
   "source": [
    "out = []\n",
    "for i in data:\n",
    "    out.append(dict(zip(data[0], i))) # mengubah ke dictionary\n",
    "out = out[1:]\n",
    "print(out)"
   ]
  },
  {
   "cell_type": "markdown",
   "metadata": {},
   "source": [
    "### **D. Convert to CSV File**"
   ]
  },
  {
   "cell_type": "markdown",
   "metadata": {},
   "source": [
    "Menyimpan data yang telah diubah menjadi list of Dictionary (**out**) ke dalam file CSV dengan nama 'file.csv'"
   ]
  },
  {
   "cell_type": "code",
   "execution_count": 12,
   "metadata": {},
   "outputs": [],
   "source": [
    "import csv\n",
    "with open('file.csv', 'w', newline='') as file:\n",
    "    kolom = list(out[0].keys())\n",
    "    tulis = csv.DictWriter(file, fieldnames=kolom)\n",
    "    tulis.writeheader()\n",
    "    tulis.writerows(out)"
   ]
  },
  {
   "cell_type": "markdown",
   "metadata": {},
   "source": [
    "### **E. Convert Xlsx to JSON File**"
   ]
  },
  {
   "cell_type": "markdown",
   "metadata": {},
   "source": [
    "Menyimpan data yang telah diubah menjadi list of Dictionary (**out**) ke dalam file JSON dengan nama 'file.json'"
   ]
  },
  {
   "cell_type": "code",
   "execution_count": 13,
   "metadata": {},
   "outputs": [],
   "source": [
    "import json\n",
    "with open('file.json', 'w') as file:\n",
    "    json.dump(out, file)"
   ]
  },
  {
   "cell_type": "markdown",
   "metadata": {},
   "source": [
    "### **F. Convert JSON to Xlsx File**"
   ]
  },
  {
   "cell_type": "code",
   "execution_count": 15,
   "metadata": {},
   "outputs": [],
   "source": [
    "import json\n",
    "with open('file.json', 'r') as file:\n",
    "    x = json.load(file)\n",
    "\n",
    "col = list(x[0].keys())\n",
    "data = []\n",
    "for i in x:\n",
    "    data.append(list(i.values()))\n",
    "\n",
    "import xlsxwriter\n",
    "file = xlsxwriter.Workbook('dataExt.xlsx')\n",
    "sheet = file.add_worksheet('SheetA')\n",
    "\n",
    "#write col\n",
    "for i in col:\n",
    "    sheet.write(0, col.index(i), i)\n",
    "\n",
    "#write data\n",
    "row = 1\n",
    "for x, y, z, q in data:\n",
    "    sheet.write(row, 0, x)\n",
    "    sheet.write(row, 1, y)\n",
    "    sheet.write(row, 2, z)\n",
    "    sheet.write(row, 3, q)\n",
    "    row += 1\n",
    "\n",
    "file.close()"
   ]
  }
 ],
 "metadata": {
  "kernelspec": {
   "display_name": "Python 3",
   "language": "python",
   "name": "python3"
  },
  "language_info": {
   "codemirror_mode": {
    "name": "ipython",
    "version": 3
   },
   "file_extension": ".py",
   "mimetype": "text/x-python",
   "name": "python",
   "nbconvert_exporter": "python",
   "pygments_lexer": "ipython3",
   "version": "3.7.4"
  }
 },
 "nbformat": 4,
 "nbformat_minor": 4
}
